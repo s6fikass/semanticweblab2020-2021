{
 "cells": [
  {
   "cell_type": "code",
   "execution_count": 1,
   "metadata": {},
   "outputs": [],
   "source": [
    "import plotly.express as px\n",
    "from jupyter_dash import JupyterDash\n",
    "from dash.dependencies import Input, Output, State\n",
    "import dash_table\n",
    "import dash\n",
    "import pandas as pd\n",
    "import import_ipynb\n",
    "from ipynb.fs.full.MainApp import app\n",
    "from ipynb.fs.full.HelperFunctions import start_table_df"
   ]
  },
  {
   "cell_type": "code",
   "execution_count": 2,
   "metadata": {},
   "outputs": [],
   "source": [
    "#---------------------------------------------------Table Function--------------------------------------------------------------\n",
    "def gen_table_function(n_clicks, jsonified_ResultListdataframe,derived_virtual_selected_rows):\n",
    "\n",
    "    selectedRowsIndex=derived_virtual_selected_rows\n",
    "    resultListdataframe = pd.read_json(jsonified_ResultListdataframe, orient='split')\n",
    "    mycolumns = [{'name': index, 'id': index,\"deletable\": True, \"selectable\": True} for index in resultListdataframe.columns]\n",
    "\n",
    "    return  resultListdataframe, mycolumns  \n",
    "\n",
    "#---------------------------------------------------Table Callback--------------------------------------------------------------\n",
    "#generate table from query    \n",
    "@app.callback(\n",
    "    [Output(\"alert-table\", \"is_open\"),Output(\"Resulttable\", \"data\"), \n",
    "     Output(\"Resulttable\", \"columns\"), Output(\"MainTableDiv\", \"style\")],\n",
    "    [Input(\"submit-btn\", \"n_clicks\"),\n",
    "    Input(\"intermediate-value\", \"children\"),\n",
    "    Input(\"Resulttable\", \"derived_virtual_selected_rows\")],\n",
    ")    \n",
    "\n",
    "def gen_table(n_clicks, jsonified_ResultListdataframe,derived_virtual_selected_rows):\n",
    "    \n",
    "    if n_clicks > 0:\n",
    "        \n",
    "        if jsonified_ResultListdataframe is None:\n",
    "            \n",
    "            return True, start_table_df.to_dict('records'), [{'id': '', 'name': ''}], {'display': 'none'}\n",
    "        \n",
    "        else:\n",
    "            resultListdataframe,mycolumns =  gen_table_function(n_clicks, jsonified_ResultListdataframe,derived_virtual_selected_rows)\n",
    "            return False, resultListdataframe.to_dict('records'), mycolumns, {'display': 'block'}\n",
    "        \n",
    "    return False, start_table_df.to_dict('records'), [{'id': '', 'name': ''}], {'display': 'none'}    \n",
    "\n",
    "#---------------------------------------------------Table Compare Callback--------------------------------------------------------------\n",
    "#generate table from query2    \n",
    "@app.callback(\n",
    "    [Output(\"alert-table2\", \"is_open\"),Output(\"Resulttable2\", \"data\"),\n",
    "     Output(\"Resulttable2\", \"columns\"), Output(\"MainTableDiv2\", \"style\")],\n",
    "    [Input(\"compare-btn\", \"n_clicks\"),\n",
    "    Input(\"intermediate-value2\", \"children\"),\n",
    "    Input(\"Resulttable2\", \"derived_virtual_selected_rows\")],\n",
    ")    \n",
    "\n",
    "def gen_table(n_clicks, jsonified_ResultListdataframe, derived_virtual_selected_rows):\n",
    " \n",
    "    if n_clicks > 0:   \n",
    "        \n",
    "        if jsonified_ResultListdataframe is None:\n",
    "\n",
    "            return True, start_table_df.to_dict('records'), [{'id': '', 'name': ''}], {'display': 'none'}\n",
    "        \n",
    "        else:\n",
    "            resultListdataframe,mycolumns =  gen_table_function(n_clicks, jsonified_ResultListdataframe,derived_virtual_selected_rows)\n",
    "            return False, resultListdataframe.to_dict('records'), mycolumns, {'display': 'block'}\n",
    "        \n",
    "    return False, start_table_df.to_dict('records'), [{'id': '', 'name': ''}], {'display': 'none'}    \n"
   ]
  }
 ],
 "metadata": {
  "kernelspec": {
   "display_name": "Python 3",
   "language": "python",
   "name": "python3"
  },
  "language_info": {
   "codemirror_mode": {
    "name": "ipython",
    "version": 3
   },
   "file_extension": ".py",
   "mimetype": "text/x-python",
   "name": "python",
   "nbconvert_exporter": "python",
   "pygments_lexer": "ipython3",
   "version": "3.8.3"
  }
 },
 "nbformat": 4,
 "nbformat_minor": 4
}
