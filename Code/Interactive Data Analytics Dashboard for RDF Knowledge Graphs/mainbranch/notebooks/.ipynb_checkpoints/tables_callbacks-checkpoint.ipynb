{
 "cells": [
  {
   "cell_type": "code",
   "execution_count": 22,
   "metadata": {},
   "outputs": [],
   "source": [
    "from dash.dependencies import Input, Output, State\n",
    "import dash_table\n",
    "import pandas as pd\n",
    "import import_ipynb\n",
    "\n",
    "from dashboard import app"
   ]
  },
  {
   "cell_type": "code",
   "execution_count": null,
   "metadata": {},
   "outputs": [],
   "source": [
    "def sql(value):\n",
    "    #sparql = SPARQLWrapper(\"http://dbpedia.org/sparql\")\n",
    "    sparql = SPARQLWrapper(\"https://query.wikidata.org/sparql\")\n",
    "    sparql.setQuery(value)\n",
    "    sparql.setReturnFormat(JSON)\n",
    "    result = sparql.query()\n",
    "    processed_results = json.load(result.response)\n",
    "    cols = processed_results['head']['vars']\n",
    "\n",
    "    out = []\n",
    "    for row in processed_results['results']['bindings']:\n",
    "        item = []\n",
    "        for c in cols:\n",
    "            item.append(row.get(c, {}).get('value'))\n",
    "        out.append(item)\n",
    "\n",
    "    return pd.DataFrame(out, columns=cols)"
   ]
  },
  {
   "cell_type": "code",
   "execution_count": 23,
   "metadata": {},
   "outputs": [],
   "source": [
    "def register_callbacks(app):\n",
    "\n",
    "    @app.callback(\n",
    "        [Output(\"Resulttable\", \"data\"), Output('Resulttable', 'columns'), Output('MainTableDiv', 'style')],\n",
    "        [Input(\"submit-btn\", \"n_clicks\"),\n",
    "        Input('Resulttable', \"page_current\"),\n",
    "        Input('Resulttable', \"page_size\")],\n",
    "        [State(\"query-text\",\"value\")]\n",
    "    )    \n",
    "    def gen_table(n_clicks,page_current,page_size, value):\n",
    "        if n_clicks > 0:\n",
    "            resultList = sql(value)\n",
    "            ResultListdataframe = resultList\n",
    "            mycolumns = [{'name': index, 'id': index} for index in resultList.columns]\n",
    "    #         print(mycolumns)   \n",
    "            return resultList[\n",
    "            page_current*page_size:(page_current+ 1)*page_size\n",
    "        ].to_dict('records'),mycolumns,{'display': 'block'}\n",
    "        return [],[],{'display': 'none'}"
   ]
  }
 ],
 "metadata": {
  "kernelspec": {
   "display_name": "Python 3",
   "language": "python",
   "name": "python3"
  },
  "language_info": {
   "codemirror_mode": {
    "name": "ipython",
    "version": 3
   },
   "file_extension": ".py",
   "mimetype": "text/x-python",
   "name": "python",
   "nbconvert_exporter": "python",
   "pygments_lexer": "ipython3",
   "version": "3.7.6"
  }
 },
 "nbformat": 4,
 "nbformat_minor": 2
}
