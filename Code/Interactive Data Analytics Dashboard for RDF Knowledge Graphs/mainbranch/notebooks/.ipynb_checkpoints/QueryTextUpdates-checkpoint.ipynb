{
 "cells": [
  {
   "cell_type": "code",
   "execution_count": 1,
   "metadata": {},
   "outputs": [],
   "source": [
    "import plotly.express as px\n",
    "from jupyter_dash import JupyterDash\n",
    "from dash.dependencies import Input, Output, State\n",
    "import dash_table\n",
    "import dash\n",
    "import pandas as pd\n",
    "import import_ipynb\n",
    "from ipynb.fs.full.MainApp import app\n",
    "from ipynb.fs.full.HelperFunctions import queries,endpoints"
   ]
  },
  {
   "cell_type": "code",
   "execution_count": 2,
   "metadata": {},
   "outputs": [],
   "source": [
    "#---------------------------------------------------Update endpoint query 1 value Callback--------------------------------------------------------------\n",
    "@app.callback([Output(\"query-endpoint\", \"value\"),Output(\"endpoint-query1-type\", \"title\")],\n",
    "              [Input('endpoint-query1-intermediate-value1', 'title'),Input('endpoint-query1-intermediate-value2', 'title'), Input('upload-data', 'fileNames')],             \n",
    "              )\n",
    "def update_endpoint(title1,title2, fileNames):\n",
    "    ctx = dash.callback_context\n",
    "    if not ctx.triggered:\n",
    "        endpoint = 'No changes yet'\n",
    "    else:\n",
    "        endpoint = ctx.triggered[0]['prop_id'].split('.')[0]\n",
    "    if((endpoint == 'endpoint-query1-intermediate-value1' or endpoint == 'upload-data') and (ctx.triggered[0]['value'] != '' and ctx.triggered[0]['value'] != None)):\n",
    "        return title1,'1'\n",
    "    else:\n",
    "        return title2,'2' \n",
    "    \n",
    "#---------------------------------------------------Update endpoint query 2 value Callback for compare--------------------------------------------------------------\n",
    "@app.callback([Output(\"query-endpoint2\", \"value\"),Output(\"endpoint-query2-type\", \"title\")],\n",
    "              [Input('endpoint-query2-intermediate-value1', 'title'),Input('endpoint-query2-intermediate-value2', 'title'), Input('upload-data2', 'fileNames')],             \n",
    "              )\n",
    "def update_endpoint2(title1,title2, fileNames):\n",
    "    ctx = dash.callback_context\n",
    "    if not ctx.triggered:\n",
    "        endpoint = 'No changes yet'\n",
    "    else:\n",
    "        endpoint = ctx.triggered[0]['prop_id'].split('.')[0]\n",
    "    if((endpoint == 'endpoint-query2-intermediate-value1' or endpoint == 'upload-data2') and (ctx.triggered[0]['value'] != '' and ctx.triggered[0]['value'] != None)):\n",
    "        return title1,'1'\n",
    "    else:\n",
    "        return title2,'2'  \n",
    "    \n",
    "    \n",
    "#---------------------------------------------------Query Samples Callback--------------------------------------------------------------\n",
    "# write selected query sample in the query text area    \n",
    "@app.callback(\n",
    "    [Output(\"query-text\", \"value\"), Output('endpoint-query1-intermediate-value2', 'title')],\n",
    "    [Input(\"querySamples\", \"active_cell\")],\n",
    "    [State(\"query-text\", \"value\"),State(\"query-endpoint\", \"value\")]\n",
    ")\n",
    "def get_active_cell(active_cell,prev_query,prev_endpoint):\n",
    "    if(active_cell):\n",
    "        \n",
    "        return queries[next(iter(active_cell.values()))], endpoints[next(iter(active_cell.values()))] \n",
    "    return prev_query,prev_endpoint"
   ]
  },
  {
   "cell_type": "code",
   "execution_count": null,
   "metadata": {},
   "outputs": [],
   "source": []
  }
 ],
 "metadata": {
  "kernelspec": {
   "display_name": "Python 3",
   "language": "python",
   "name": "python3"
  },
  "language_info": {
   "codemirror_mode": {
    "name": "ipython",
    "version": 3
   },
   "file_extension": ".py",
   "mimetype": "text/x-python",
   "name": "python",
   "nbconvert_exporter": "python",
   "pygments_lexer": "ipython3",
   "version": "3.8.3"
  }
 },
 "nbformat": 4,
 "nbformat_minor": 4
}
