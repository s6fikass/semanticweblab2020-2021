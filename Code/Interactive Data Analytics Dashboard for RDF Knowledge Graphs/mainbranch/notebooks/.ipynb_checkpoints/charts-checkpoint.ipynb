{
 "cells": [
  {
   "cell_type": "code",
   "execution_count": 23,
   "metadata": {},
   "outputs": [],
   "source": [
    "import plotly.express as px\n",
    "from jupyter_dash import JupyterDash\n",
    "from dash.dependencies import Input, Output, State\n",
    "import dash_table\n",
    "import pandas as pd\n",
    "import import_ipynb\n",
    "import functions\n",
    "from dashboard import app"
   ]
  },
  {
   "cell_type": "code",
   "execution_count": 24,
   "metadata": {},
   "outputs": [],
   "source": [
    "@app.callback(\n",
    "    Output(\"graph\", \"figure\"),\n",
    "    Input(\"submit-btn\", \"n_clicks\"),\n",
    "    State(\"query-text\",\"value\")\n",
    ")\n",
    "def gen_graph(n_clicks, value):\n",
    "    df = [{'x': [1, 2, 3] }] \n",
    "    fig = px.scatter(df)\n",
    "    if n_clicks > 0:\n",
    "        resultList = sql(value)\n",
    "        ResultListdataframe = resultList\n",
    "#         print(ResultListdataframe)\n",
    "        fig = px.scatter(ResultListdataframe)\n",
    "#         fig = px.bar(ResultListdataframe)\n",
    "#         fig = px.line(ResultListdataframe)\n",
    "\n",
    "    return fig"
   ]
  }
 ],
 "metadata": {
  "kernelspec": {
   "display_name": "Python 3",
   "language": "python",
   "name": "python3"
  },
  "language_info": {
   "codemirror_mode": {
    "name": "ipython",
    "version": 3
   },
   "file_extension": ".py",
   "mimetype": "text/x-python",
   "name": "python",
   "nbconvert_exporter": "python",
   "pygments_lexer": "ipython3",
   "version": "3.7.3"
  }
 },
 "nbformat": 4,
 "nbformat_minor": 2
}
