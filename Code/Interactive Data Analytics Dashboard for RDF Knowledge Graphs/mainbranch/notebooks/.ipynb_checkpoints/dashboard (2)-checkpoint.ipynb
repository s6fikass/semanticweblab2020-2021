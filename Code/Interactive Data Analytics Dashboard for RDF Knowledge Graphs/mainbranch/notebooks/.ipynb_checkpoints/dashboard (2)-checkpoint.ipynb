{
 "cells": [
  {
   "cell_type": "code",
   "execution_count": 1,
   "metadata": {},
   "outputs": [],
   "source": [
    "import dash\n",
    "import plotly.express as px\n",
    "from jupyter_dash import JupyterDash\n",
    "import dash_core_components as dcc\n",
    "import dash_html_components as html\n",
    "from dash.dependencies import Input, Output, State\n",
    "from SPARQLWrapper import SPARQLWrapper,SPARQLWrapper2, JSON, CSV, N3\n"
   ]
  },
  {
   "cell_type": "code",
   "execution_count": 2,
   "metadata": {},
   "outputs": [],
   "source": [
    "# Build App\n",
    "app = JupyterDash(__name__)\n",
    "\n",
    "#function to query dbpedia endpoint\n",
    "def sql(value):\n",
    "    sparql = SPARQLWrapper2(\"http://dbpedia.org/sparql\")\n",
    "    sparql.setQuery(value)\n",
    "    results = sparql.query()\n",
    "    \n",
    "    return results\n",
    "\n",
    "app.layout = html.Div([\n",
    "    \n",
    "    html.Div(\n",
    "        className=\"navbar\",\n",
    "        children=[ \n",
    "            html.H3('Interactive Data Analytics Dashboard for RDF Knowledge Graphs', className=\"navbar--title\"),\n",
    "            html.Div(\n",
    "                className=\"navbar--btns\",\n",
    "                children=[\n",
    "                    html.Span(\n",
    "                        className=\"navbar--btn_left\",\n",
    "                        children=\"Dashboard\"),\n",
    "                    html.Span(\n",
    "                        className=\"navbar--btn_left\",\n",
    "                        children=\"Tables\"),\n",
    "                    html.Span(\n",
    "                        className=\"navbar--btn_left\",\n",
    "                        children=\"Charts\"),\n",
    "                    html.Span(\n",
    "                        className=\"navbar--btn_left\",\n",
    "                        children=\"Query Samples\"),\n",
    "                    html.Span(\n",
    "                        className=\"navbar--btn_right\",\n",
    "                        children=\"Upload\"),\n",
    "                    html.Span(\n",
    "                        className=\"navbar--btn_right\",\n",
    "                        children=\"Download\"),]),\n",
    "\n",
    "   \n",
    "    html.Div(\n",
    "        className=\"querybox\",\n",
    "        children=[\n",
    "            html.H4(\"SPARQL Query\", className=\"querybox--title\"),\n",
    "            dcc.Textarea(id= \"query-text\", value=\"Enter your SPARQL query.\", className=\"querybox--textarea\"),\n",
    "            html.Button(\"SUBMIT\", id=\"submit-btn\", className=\"querybox--btn\", n_clicks=0)\n",
    "        ]),\n",
    "    html.Div(id=\"output\")\n",
    "      ]),\n",
    "\n",
    "       \n",
    "])#lay-out div    \n",
    "    \n"
   ]
  },
  {
   "cell_type": "code",
   "execution_count": 3,
   "metadata": {},
   "outputs": [
    {
     "name": "stdout",
     "output_type": "stream",
     "text": [
      "Dash app running on http://127.0.0.1:8050/\n"
     ]
    }
   ],
   "source": [
    "@app.callback(\n",
    "    Output(\"output\", \"children\"),\n",
    "    Input(\"submit-btn\", \"n_clicks\"),\n",
    "    State(\"query-text\",\"value\")\n",
    ")\n",
    "#function to listen to submit button and take textarea content\n",
    "def update_output(n_clicks, value):\n",
    "    if n_clicks > 0:\n",
    "        results = sql(value)\n",
    "        \n",
    "        return results.bindings[0]['title'].value\n",
    "\n",
    "  \n",
    "    \n",
    "if __name__ == '__main__':\n",
    "    app.run_server(debug=True)"
   ]
  },
  {
   "cell_type": "raw",
   "metadata": {},
   "source": [
    "The query:\n",
    "\n",
    "\n",
    "PREFIX : <http://dbpedia.org/resource/>\n",
    "PREFIX rdf: <http://www.w3.org/1999/02/22-rdf-syntax-ns#>\n",
    "PREFIX rdfs: <http://www.w3.org/2000/01/rdf-schema#>\n",
    "PREFIX dbo: <http://dbpedia.org/ontology/>\n",
    "SELECT ?author_name ?title\n",
    "WHERE {\n",
    "     ?author rdf:type dbo:Writer. \n",
    "     ?author rdfs:label ?author_name .\n",
    "     FILTER (LANG(?author_name)='en').\n",
    "     ?author dbo:notableWork ?work .\n",
    "     ?work rdfs:label ?title .\n",
    "     FILTER (LANG(?title)='en').\n",
    "} LIMIT 15"
   ]
  },
  {
   "cell_type": "raw",
   "metadata": {},
   "source": [
    "My question:\n",
    "\n",
    "how can we check the results has Numeric or time value?\n",
    "which format should we use? JSON, N3\n"
   ]
  },
  {
   "cell_type": "code",
   "execution_count": 4,
   "metadata": {},
   "outputs": [
    {
     "name": "stdout",
     "output_type": "stream",
     "text": [
      "['author_name', 'title']\n",
      "Abbie Hoffman\n",
      "Alice Walker\n",
      "Barry Took\n",
      "Charles Beaumont\n",
      "David Eddings\n",
      "David Eddings\n",
      "Edward Albee\n",
      "Greg Bear\n",
      "Victor Hugo\n",
      "William Golding\n",
      "William Makepeace Thackeray\n",
      "Subin Bhattarai\n",
      "Betty Fussell\n",
      "Kenneth Grahame\n",
      "John Norman\n"
     ]
    }
   ],
   "source": [
    "from SPARQLWrapper import SPARQLWrapper2\n",
    "sparql = SPARQLWrapper2(\"http://dbpedia.org/sparql\")\n",
    "sparql.setQuery(\"\"\"\n",
    "PREFIX : <http://dbpedia.org/resource/>\n",
    "PREFIX rdf: <http://www.w3.org/1999/02/22-rdf-syntax-ns#>\n",
    "PREFIX rdfs: <http://www.w3.org/2000/01/rdf-schema#>\n",
    "PREFIX dbo: <http://dbpedia.org/ontology/>\n",
    "SELECT ?author_name ?title\n",
    "WHERE {\n",
    "     ?author rdf:type dbo:Writer. \n",
    "     ?author rdfs:label ?author_name .\n",
    "     FILTER (LANG(?author_name)='en').\n",
    "     ?author dbo:notableWork ?work .\n",
    "     ?work rdfs:label ?title .\n",
    "     FILTER (LANG(?title)='en').\n",
    "} LIMIT 15\n",
    "\"\"\")\n",
    "\n",
    "print((sparql.query().variables))\n",
    "\n",
    "for result in sparql.query().bindings:\n",
    "        #print(result[sparql.query().variables[0]].value, result[sparql.query().variables[1]].value)\n",
    "        print(result[sparql.query().variables[0]].value)\n",
    "\n",
    "\n",
    "\n"
   ]
  },
  {
   "cell_type": "code",
   "execution_count": 26,
   "metadata": {},
   "outputs": [
    {
     "name": "stdout",
     "output_type": "stream",
     "text": [
      "['author_name', 'title']\n",
      "{'head': {'link': [], 'vars': ['date']}, 'results': {'distinct': False, 'ordered': True, 'bindings': [{'date': {'type': 'typed-literal', 'datatype': 'http://www.w3.org/2001/XMLSchema#date', 'value': '1973-09-05'}}, {'date': {'type': 'typed-literal', 'datatype': 'http://www.w3.org/2001/XMLSchema#date', 'value': '1973-9-5'}}, {'date': {'type': 'typed-literal', 'datatype': 'http://www.w3.org/2001/XMLSchema#date', 'value': '1971-04-12'}}, {'date': {'type': 'typed-literal', 'datatype': 'http://www.w3.org/2001/XMLSchema#date', 'value': '1971-4-12'}}, {'date': {'type': 'typed-literal', 'datatype': 'http://www.w3.org/2001/XMLSchema#date', 'value': '1969-02-01'}}, {'date': {'type': 'typed-literal', 'datatype': 'http://www.w3.org/2001/XMLSchema#date', 'value': '1969-2-1'}}, {'date': {'type': 'typed-literal', 'datatype': 'http://www.w3.org/2001/XMLSchema#date', 'value': '1972-12-19'}}, {'date': {'type': 'typed-literal', 'datatype': 'http://www.w3.org/2001/XMLSchema#date', 'value': '1971-01-26'}}, {'date': {'type': 'typed-literal', 'datatype': 'http://www.w3.org/2001/XMLSchema#date', 'value': '1971-1-26'}}, {'date': {'type': 'typed-literal', 'datatype': 'http://www.w3.org/2001/XMLSchema#date', 'value': '1968-07-27'}}, {'date': {'type': 'typed-literal', 'datatype': 'http://www.w3.org/2001/XMLSchema#date', 'value': '1968-7-27'}}, {'date': {'type': 'typed-literal', 'datatype': 'http://www.w3.org/2001/XMLSchema#date', 'value': '1973-06-15'}}, {'date': {'type': 'typed-literal', 'datatype': 'http://www.w3.org/2001/XMLSchema#date', 'value': '1973-6-15'}}, {'date': {'type': 'typed-literal', 'datatype': 'http://www.w3.org/2001/XMLSchema#date', 'value': '1985-11-30'}}, {'date': {'type': 'typed-literal', 'datatype': 'http://www.w3.org/2001/XMLSchema#date', 'value': '1980-05-19'}}, {'date': {'type': 'typed-literal', 'datatype': 'http://www.w3.org/2001/XMLSchema#date', 'value': '1980-5-19'}}, {'date': {'type': 'typed-literal', 'datatype': 'http://www.w3.org/2001/XMLSchema#date', 'value': '1973-12-03'}}, {'date': {'type': 'typed-literal', 'datatype': 'http://www.w3.org/2001/XMLSchema#date', 'value': '1973-12-3'}}]}, 'author_name': 'John Norman', 'title': 'Gor'}\n"
     ]
    }
   ],
   "source": [
    "from SPARQLWrapper import SPARQLWrapper2, RDFXML\n",
    "\n",
    "sparql = SPARQLWrapper2(\"http://dbpedia.org/sparql\")\n",
    "sparql.setQuery(\"\"\"\n",
    "PREFIX : <http://dbpedia.org/resource/>\n",
    "PREFIX rdf: <http://www.w3.org/1999/02/22-rdf-syntax-ns#>\n",
    "PREFIX rdfs: <http://www.w3.org/2000/01/rdf-schema#>\n",
    "PREFIX dbo: <http://dbpedia.org/ontology/>\n",
    "SELECT ?author_name ?title\n",
    "WHERE {\n",
    "     ?author rdf:type dbo:Writer. \n",
    "     ?author rdfs:label ?author_name .\n",
    "     FILTER (LANG(?author_name)='en').\n",
    "     ?author dbo:notableWork ?work .\n",
    "     ?work rdfs:label ?title .\n",
    "     FILTER (LANG(?title)='en').\n",
    "} LIMIT 15\n",
    "\"\"\")\n",
    "\n",
    "results = sparql.query()\n",
    "\n",
    "print(results.variables)\n",
    "\n",
    "\n",
    "\n",
    "resultsDict = dict\n",
    "\n",
    "for i in range (len(results.variables)):\n",
    "    for result in results.bindings:\n",
    "        resultsDict[results.variables[i]]= (result[results.variables[i]].value)\n",
    "        \n",
    "        \n",
    "        \n",
    "        \n",
    "\n",
    "    \n",
    "print(resultsDict) \n"
   ]
  },
  {
   "cell_type": "code",
   "execution_count": 6,
   "metadata": {},
   "outputs": [
    {
     "name": "stdout",
     "output_type": "stream",
     "text": [
      "['author_name', 'title']\n"
     ]
    }
   ],
   "source": [
    "from SPARQLWrapper import SPARQLWrapper2, JSON\n",
    "\n",
    "sparql = SPARQLWrapper2(\"http://dbpedia.org/sparql\")\n",
    "sparql.setQuery(\"\"\"\n",
    "PREFIX : <http://dbpedia.org/resource/>\n",
    "PREFIX rdf: <http://www.w3.org/1999/02/22-rdf-syntax-ns#>\n",
    "PREFIX rdfs: <http://www.w3.org/2000/01/rdf-schema#>\n",
    "PREFIX dbo: <http://dbpedia.org/ontology/>\n",
    "SELECT ?author_name ?title\n",
    "WHERE {\n",
    "     ?author rdf:type dbo:Writer. \n",
    "     ?author rdfs:label ?author_name .\n",
    "     FILTER (LANG(?author_name)='en').\n",
    "     ?author dbo:notableWork ?work .\n",
    "     ?work rdfs:label ?title .\n",
    "     FILTER (LANG(?title)='en').\n",
    "} LIMIT 15\n",
    "\"\"\")\n",
    "\n",
    "\n",
    "try :\n",
    "    ret = sparql.query()\n",
    "    print(ret.variables)  # this is an array consisting of \"author_name\" and \"title\"\n",
    "    \n",
    "    if (u\"author_name\",u\"title\") in ret :\n",
    "       # there is at least one binding covering the optional \"opt\", too\n",
    "           bindings = ret[u\"author_name\",u\"title\"]\n",
    "        \n",
    "           print(bindings)\n",
    "    \n",
    "\n",
    "\n",
    "except:\n",
    "    deal_with_the_exception()"
   ]
  },
  {
   "cell_type": "code",
   "execution_count": null,
   "metadata": {},
   "outputs": [],
   "source": []
  }
 ],
 "metadata": {
  "kernelspec": {
   "display_name": "Python 3",
   "language": "python",
   "name": "python3"
  },
  "language_info": {
   "codemirror_mode": {
    "name": "ipython",
    "version": 3
   },
   "file_extension": ".py",
   "mimetype": "text/x-python",
   "name": "python",
   "nbconvert_exporter": "python",
   "pygments_lexer": "ipython3",
   "version": "3.7.6"
  }
 },
 "nbformat": 4,
 "nbformat_minor": 4
}
