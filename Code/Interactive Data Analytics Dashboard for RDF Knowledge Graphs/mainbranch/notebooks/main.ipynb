{
 "cells": [
  {
   "cell_type": "code",
   "execution_count": 1,
   "metadata": {},
   "outputs": [],
   "source": [
    "from ipynb.fs.full.MainApp import app\n",
    "import ipynb.fs.full.HelperFunctions \n",
    "import ipynb.fs.full.Tabs \n",
    "import ipynb.fs.full.Layout \n",
    "import ipynb.fs.full.QueryTextUpdates \n",
    "import ipynb.fs.full.QueryResultCallbacks\n",
    "import ipynb.fs.full.TableCallbacks\n",
    "import ipynb.fs.full.ChartsResultCallback\n",
    "import ipynb.fs.full.MapsCallbacks\n",
    "import ipynb.fs.full.Statistics"
   ]
  },
  {
   "cell_type": "code",
   "execution_count": 2,
   "metadata": {},
   "outputs": [
    {
     "name": "stdout",
     "output_type": "stream",
     "text": [
      "Dash app running on http://127.0.0.1:8050/\n"
     ]
    }
   ],
   "source": [
    "# Run app and display result external in the notebook\n",
    "\n",
    "app.run_server(debug=True)\n"
   ]
  },
  {
   "cell_type": "code",
   "execution_count": null,
   "metadata": {},
   "outputs": [],
   "source": []
  }
 ],
 "metadata": {
  "kernelspec": {
   "display_name": "Python 3",
   "language": "python",
   "name": "python3"
  },
  "language_info": {
   "codemirror_mode": {
    "name": "ipython",
    "version": 3
   },
   "file_extension": ".py",
   "mimetype": "text/x-python",
   "name": "python",
   "nbconvert_exporter": "python",
   "pygments_lexer": "ipython3",
   "version": "3.7.6"
  }
 },
 "nbformat": 4,
 "nbformat_minor": 4
}
